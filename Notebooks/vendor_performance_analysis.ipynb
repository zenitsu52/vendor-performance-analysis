{
 "cells": [
  {
   "cell_type": "markdown",
   "id": "dbd43d23-7ec3-4432-a4da-7672c4877455",
   "metadata": {},
   "source": [
    "# Importing Libraries\n",
    "\n",
    "- [Dataset](#CorrelationInsights)"
   ]
  },
  {
   "cell_type": "code",
   "execution_count": 1,
   "id": "5af607a1-f3f1-434f-8677-b6a391518e2d",
   "metadata": {},
   "outputs": [],
   "source": [
    "import pandas as pd\n",
    "import numpy as np\n",
    "import matplotlib.pyplot as plt\n",
    "import seaborn as sns\n",
    "import warnings\n",
    "import sqlite3\n",
    "from scipy.stats import ttest_ind\n",
    "import scipy.stats as stats\n",
    "warnings.filterwarnings('ignore')"
   ]
  },
  {
   "cell_type": "markdown",
   "id": "df4493b9-1766-4797-b517-220a73332e65",
   "metadata": {},
   "source": [
    "# Dataset"
   ]
  },
  {
   "cell_type": "code",
   "execution_count": 2,
   "id": "c49a3607-c0c8-40ba-92fa-c0958bad7f70",
   "metadata": {},
   "outputs": [
    {
     "ename": "DatabaseError",
     "evalue": "Execution failed on sql 'select * from vendor_sales_summary': no such table: vendor_sales_summary",
     "output_type": "error",
     "traceback": [
      "\u001b[0;31m---------------------------------------------------------------------------\u001b[0m",
      "\u001b[0;31mOperationalError\u001b[0m                          Traceback (most recent call last)",
      "File \u001b[0;32m/opt/anaconda3/lib/python3.11/site-packages/pandas/io/sql.py:2262\u001b[0m, in \u001b[0;36mSQLiteDatabase.execute\u001b[0;34m(self, sql, params)\u001b[0m\n\u001b[1;32m   2261\u001b[0m \u001b[38;5;28;01mtry\u001b[39;00m:\n\u001b[0;32m-> 2262\u001b[0m     cur\u001b[38;5;241m.\u001b[39mexecute(sql, \u001b[38;5;241m*\u001b[39margs)\n\u001b[1;32m   2263\u001b[0m     \u001b[38;5;28;01mreturn\u001b[39;00m cur\n",
      "\u001b[0;31mOperationalError\u001b[0m: no such table: vendor_sales_summary",
      "\nThe above exception was the direct cause of the following exception:\n",
      "\u001b[0;31mDatabaseError\u001b[0m                             Traceback (most recent call last)",
      "Cell \u001b[0;32mIn[2], line 5\u001b[0m\n\u001b[1;32m      2\u001b[0m conn \u001b[38;5;241m=\u001b[39m sqlite3\u001b[38;5;241m.\u001b[39mconnect(\u001b[38;5;124m'\u001b[39m\u001b[38;5;124minventory.db\u001b[39m\u001b[38;5;124m'\u001b[39m)\n\u001b[1;32m      4\u001b[0m \u001b[38;5;66;03m# fetching vendor summary data\u001b[39;00m\n\u001b[0;32m----> 5\u001b[0m df \u001b[38;5;241m=\u001b[39m pd\u001b[38;5;241m.\u001b[39mread_sql_query(\u001b[38;5;124m\"\u001b[39m\u001b[38;5;124mselect * from vendor_sales_summary\u001b[39m\u001b[38;5;124m\"\u001b[39m,conn)\n\u001b[1;32m      6\u001b[0m df\u001b[38;5;241m.\u001b[39mhead()\n",
      "File \u001b[0;32m/opt/anaconda3/lib/python3.11/site-packages/pandas/io/sql.py:486\u001b[0m, in \u001b[0;36mread_sql_query\u001b[0;34m(sql, con, index_col, coerce_float, params, parse_dates, chunksize, dtype, dtype_backend)\u001b[0m\n\u001b[1;32m    483\u001b[0m \u001b[38;5;28;01massert\u001b[39;00m dtype_backend \u001b[38;5;129;01mis\u001b[39;00m \u001b[38;5;129;01mnot\u001b[39;00m lib\u001b[38;5;241m.\u001b[39mno_default\n\u001b[1;32m    485\u001b[0m \u001b[38;5;28;01mwith\u001b[39;00m pandasSQL_builder(con) \u001b[38;5;28;01mas\u001b[39;00m pandas_sql:\n\u001b[0;32m--> 486\u001b[0m     \u001b[38;5;28;01mreturn\u001b[39;00m pandas_sql\u001b[38;5;241m.\u001b[39mread_query(\n\u001b[1;32m    487\u001b[0m         sql,\n\u001b[1;32m    488\u001b[0m         index_col\u001b[38;5;241m=\u001b[39mindex_col,\n\u001b[1;32m    489\u001b[0m         params\u001b[38;5;241m=\u001b[39mparams,\n\u001b[1;32m    490\u001b[0m         coerce_float\u001b[38;5;241m=\u001b[39mcoerce_float,\n\u001b[1;32m    491\u001b[0m         parse_dates\u001b[38;5;241m=\u001b[39mparse_dates,\n\u001b[1;32m    492\u001b[0m         chunksize\u001b[38;5;241m=\u001b[39mchunksize,\n\u001b[1;32m    493\u001b[0m         dtype\u001b[38;5;241m=\u001b[39mdtype,\n\u001b[1;32m    494\u001b[0m         dtype_backend\u001b[38;5;241m=\u001b[39mdtype_backend,\n\u001b[1;32m    495\u001b[0m     )\n",
      "File \u001b[0;32m/opt/anaconda3/lib/python3.11/site-packages/pandas/io/sql.py:2326\u001b[0m, in \u001b[0;36mSQLiteDatabase.read_query\u001b[0;34m(self, sql, index_col, coerce_float, parse_dates, params, chunksize, dtype, dtype_backend)\u001b[0m\n\u001b[1;32m   2315\u001b[0m \u001b[38;5;28;01mdef\u001b[39;00m \u001b[38;5;21mread_query\u001b[39m(\n\u001b[1;32m   2316\u001b[0m     \u001b[38;5;28mself\u001b[39m,\n\u001b[1;32m   2317\u001b[0m     sql,\n\u001b[0;32m   (...)\u001b[0m\n\u001b[1;32m   2324\u001b[0m     dtype_backend: DtypeBackend \u001b[38;5;241m|\u001b[39m Literal[\u001b[38;5;124m\"\u001b[39m\u001b[38;5;124mnumpy\u001b[39m\u001b[38;5;124m\"\u001b[39m] \u001b[38;5;241m=\u001b[39m \u001b[38;5;124m\"\u001b[39m\u001b[38;5;124mnumpy\u001b[39m\u001b[38;5;124m\"\u001b[39m,\n\u001b[1;32m   2325\u001b[0m ) \u001b[38;5;241m-\u001b[39m\u001b[38;5;241m>\u001b[39m DataFrame \u001b[38;5;241m|\u001b[39m Iterator[DataFrame]:\n\u001b[0;32m-> 2326\u001b[0m     cursor \u001b[38;5;241m=\u001b[39m \u001b[38;5;28mself\u001b[39m\u001b[38;5;241m.\u001b[39mexecute(sql, params)\n\u001b[1;32m   2327\u001b[0m     columns \u001b[38;5;241m=\u001b[39m [col_desc[\u001b[38;5;241m0\u001b[39m] \u001b[38;5;28;01mfor\u001b[39;00m col_desc \u001b[38;5;129;01min\u001b[39;00m cursor\u001b[38;5;241m.\u001b[39mdescription]\n\u001b[1;32m   2329\u001b[0m     \u001b[38;5;28;01mif\u001b[39;00m chunksize \u001b[38;5;129;01mis\u001b[39;00m \u001b[38;5;129;01mnot\u001b[39;00m \u001b[38;5;28;01mNone\u001b[39;00m:\n",
      "File \u001b[0;32m/opt/anaconda3/lib/python3.11/site-packages/pandas/io/sql.py:2274\u001b[0m, in \u001b[0;36mSQLiteDatabase.execute\u001b[0;34m(self, sql, params)\u001b[0m\n\u001b[1;32m   2271\u001b[0m     \u001b[38;5;28;01mraise\u001b[39;00m ex \u001b[38;5;28;01mfrom\u001b[39;00m \u001b[38;5;21;01minner_exc\u001b[39;00m\n\u001b[1;32m   2273\u001b[0m ex \u001b[38;5;241m=\u001b[39m DatabaseError(\u001b[38;5;124mf\u001b[39m\u001b[38;5;124m\"\u001b[39m\u001b[38;5;124mExecution failed on sql \u001b[39m\u001b[38;5;124m'\u001b[39m\u001b[38;5;132;01m{\u001b[39;00msql\u001b[38;5;132;01m}\u001b[39;00m\u001b[38;5;124m'\u001b[39m\u001b[38;5;124m: \u001b[39m\u001b[38;5;132;01m{\u001b[39;00mexc\u001b[38;5;132;01m}\u001b[39;00m\u001b[38;5;124m\"\u001b[39m)\n\u001b[0;32m-> 2274\u001b[0m \u001b[38;5;28;01mraise\u001b[39;00m ex \u001b[38;5;28;01mfrom\u001b[39;00m \u001b[38;5;21;01mexc\u001b[39;00m\n",
      "\u001b[0;31mDatabaseError\u001b[0m: Execution failed on sql 'select * from vendor_sales_summary': no such table: vendor_sales_summary"
     ]
    }
   ],
   "source": [
    "# creating database connection\n",
    "conn = sqlite3.connect('inventory.db')\n",
    "\n",
    "# fetching vendor summary data\n",
    "df = pd.read_sql_query(\"select * from vendor_sales_summary\",conn)\n",
    "df.head()"
   ]
  },
  {
   "cell_type": "code",
   "execution_count": null,
   "id": "ccea3af1-b26c-405c-8030-43c537037b33",
   "metadata": {},
   "outputs": [],
   "source": [
    "df.to_csv('vendor_sales_summary.csv',index  = False)"
   ]
  },
  {
   "cell_type": "markdown",
   "id": "b5327199-9678-47b2-8d27-19e1930b6acb",
   "metadata": {},
   "source": [
    "# Exploratory Data Analysis \n",
    "- Previously, we examined the various tables in the database to identify key variables, understand their relationships, and determine which ones should be included in the final analysis.\n",
    "\n",
    "- In this phase of EDA, we will analyze the resultant table to gain insights into the distribution of each column. This will help us understand data patterns, identify anomalies, and ensure data quality before proceeding with further analysis.\n"
   ]
  },
  {
   "cell_type": "code",
   "execution_count": null,
   "id": "6f76ed3a-2395-485d-862a-5f079ee8dd20",
   "metadata": {},
   "outputs": [],
   "source": [
    "# Summary statistics for numerical columns\n",
    "summary_stats = df.describe().T  \n",
    "display(summary_stats)"
   ]
  },
  {
   "cell_type": "code",
   "execution_count": null,
   "id": "3d83da82-8c47-404b-805a-f783e07afae4",
   "metadata": {},
   "outputs": [],
   "source": [
    "# Mode for each numerical column\n",
    "mode_values = df.mode().iloc[0]\n",
    "print(\"\\nMode Values:\\n\\n\", mode_values)\n"
   ]
  },
  {
   "cell_type": "code",
   "execution_count": null,
   "id": "efb7f6fc-bad2-4c9b-aae6-00b7f1e464c0",
   "metadata": {},
   "outputs": [],
   "source": [
    "# Distribution Plots for Numerical Columns\n",
    "numerical_cols = df.select_dtypes(include=np.number).columns\n",
    "\n",
    "plt.figure(figsize=(15, 10))\n",
    "for i, col in enumerate(numerical_cols):\n",
    "    plt.subplot(4, 4, i+1)  # Adjust grid layout as needed\n",
    "    sns.histplot(df[col], kde=True, bins=30)\n",
    "    plt.title(col)\n",
    "plt.tight_layout()\n",
    "plt.show()"
   ]
  },
  {
   "cell_type": "code",
   "execution_count": null,
   "id": "19a8252f-0990-452a-928e-52ab1f79e938",
   "metadata": {},
   "outputs": [],
   "source": [
    "# Outlier Detection with Boxplots\n",
    "plt.figure(figsize=(15, 10))\n",
    "for i, col in enumerate(numerical_cols):\n",
    "    plt.subplot(4, 4, i+1)\n",
    "    sns.boxplot(y=df[col])\n",
    "    plt.title(col)\n",
    "plt.tight_layout()\n",
    "plt.show()"
   ]
  },
  {
   "cell_type": "markdown",
   "id": "8590fe88-231b-439c-a1a7-a80c4e6c3726",
   "metadata": {},
   "source": [
    "## Summary Statistics Insights:\n",
    "**Negative & Zero Values:**\n",
    "\n",
    "- Gross Profit: Minimum value is -52,002.78, indicating losses. Some products or transactions may be selling at a loss due to high costs or selling at discounts lower than the purchase price..\n",
    "- Profit Margin: Has a minimum of -∞, which suggests cases where revenue is zero or even lower than costs.\n",
    "- Total Sales Quantity & Sales Dollars: Minimum values are 0, meaning some products were purchased but never sold. These could be slow-moving or obsolete stock.\n",
    "\n",
    "**Outliers Indicated by High Standard Deviations:**\n",
    "\n",
    "- Purchase & Actual Prices: The max values (5,681.81 & 7,499.99) are significantly higher than the mean (24.39 & 35.64), indicating potential premium products.\n",
    "- Freight Cost: Huge variation, from 0.09 to 257,032.07, suggests logistics inefficiencies or bulk shipments.\n",
    "- Stock Turnover: Ranges from 0 to 274.5, implying some products sell extremely fast while others remain in stock indefinitely. Value more than 1 indicates that Sold quantity for that product is higher than purchased quantity due to either sales are being fulfilled from older stock."
   ]
  },
  {
   "cell_type": "code",
   "execution_count": null,
   "id": "d008c31c-2b8c-4bea-9c58-1cecaeb5c485",
   "metadata": {},
   "outputs": [],
   "source": [
    "# let's filter the data by removing inconsistencies\n",
    "df = pd.read_sql_query(\"\"\"SELECT * \n",
    "FROM vendor_sales_summary\n",
    "WHERE GrossProfit > 0\n",
    "AND ProfitMargin > 0\n",
    "AND TotalSalesQuantity > 0\"\"\",conn)"
   ]
  },
  {
   "cell_type": "code",
   "execution_count": null,
   "id": "2fb54e0a-2b7f-4c7f-91a2-fdad4b8e931d",
   "metadata": {},
   "outputs": [],
   "source": [
    "df.shape"
   ]
  },
  {
   "cell_type": "code",
   "execution_count": null,
   "id": "af5c5565-36d4-4e25-8cf6-c33463e94df5",
   "metadata": {},
   "outputs": [],
   "source": [
    "# Distribution Plots for Numerical Columns\n",
    "numerical_cols = df.select_dtypes(include=np.number).columns\n",
    "\n",
    "plt.figure(figsize=(15, 10))\n",
    "for i, col in enumerate(numerical_cols):\n",
    "    plt.subplot(4, 4, i+1)  # Adjust grid layout as needed\n",
    "    sns.histplot(df[col], kde=True, bins=30)\n",
    "    plt.title(col)\n",
    "plt.tight_layout()\n",
    "plt.show()"
   ]
  },
  {
   "cell_type": "code",
   "execution_count": null,
   "id": "e33c3476-3900-4576-9931-a012c7b7eb86",
   "metadata": {},
   "outputs": [],
   "source": [
    "# Count Plots for Categorical Columns\n",
    "categorical_cols = [\"VendorName\", \"Description\"]\n",
    "\n",
    "plt.figure(figsize=(12, 5))\n",
    "for i, col in enumerate(categorical_cols):\n",
    "    plt.subplot(1, 2, i+1)\n",
    "    sns.countplot(y=df[col], order=df[col].value_counts().index[:10])  # Top 10 categories\n",
    "    plt.title(f\"Count Plot of {col}\")\n",
    "plt.tight_layout()\n",
    "plt.show()"
   ]
  },
  {
   "cell_type": "code",
   "execution_count": null,
   "id": "0dc6ef09-ec08-4781-8cac-91f9f9530bfc",
   "metadata": {},
   "outputs": [],
   "source": [
    "# Correlation Heatmap\n",
    "plt.figure(figsize=(12, 8))\n",
    "correlation_matrix = df[numerical_cols].corr()\n",
    "sns.heatmap(correlation_matrix, annot=True, fmt=\".2f\", cmap=\"coolwarm\", linewidths=0.5)\n",
    "plt.title(\"Correlation Heatmap\")\n",
    "plt.show()"
   ]
  },
  {
   "cell_type": "markdown",
   "id": "5aa727b1-39a2-4d74-80f8-135334f507fd",
   "metadata": {},
   "source": [
    "## Correlation Insights\n",
    "- PurchasePrice has weak correlations with TotalSalesDollars (-0.012) and GrossProfit (-0.016), suggesting that price variations do not significantly impact sales revenue or profit.\n",
    "- Strong correlation between total purchase quantity and total sales quantity (0.999), confirming efficient inventory turnover.\n",
    "- Negative correlation between profit margin & total sales price (-0.179) suggests that as sales price increases, margins decrease, possibly due to competitive pricing pressures.\n",
    "- StockTurnover has weak negative correlations with both GrossProfit (-0.038) and ProfitMargin (-0.055), indicating that faster turnover does not necessarily result in higher profitability.\n"
   ]
  },
  {
   "cell_type": "markdown",
   "id": "33bac2b3-f90a-4f71-b4be-4eaab3556065",
   "metadata": {},
   "source": [
    "# Data Analysis"
   ]
  },
  {
   "cell_type": "markdown",
   "id": "414c5bc4-407e-40a1-9a11-6d2167761fb9",
   "metadata": {},
   "source": [
    "#### Identify Brands that needs Promotional or Pricing Adjustments which exhibit lower sales performance but higher profit margins."
   ]
  },
  {
   "cell_type": "code",
   "execution_count": null,
   "id": "b9ce590a-be3a-416e-bcb9-ba0435ef40a5",
   "metadata": {},
   "outputs": [],
   "source": [
    "brand_performance = df.groupby('Description').agg({\n",
    "    'TotalSalesDollars': 'sum',  # Sales performance metric\n",
    "    'ProfitMargin': 'mean'       # Average profit margin\n",
    "}).reset_index()\n",
    "\n",
    "brand_performance.sort_values('ProfitMargin')\n"
   ]
  },
  {
   "cell_type": "code",
   "execution_count": null,
   "id": "e344feba-199d-4525-b11e-03dfa7b61004",
   "metadata": {},
   "outputs": [],
   "source": [
    "# threshold for \"low sales\" (bottom 15%) and \"high margin\" (top 15%)\n",
    "low_sales_threshold = brand_performance['TotalSalesDollars'].quantile(0.15)\n",
    "high_margin_threshold = brand_performance['ProfitMargin'].quantile(0.85)\n",
    "\n",
    "# Filter brands with low sales but high profit margins\n",
    "target_brands = brand_performance[\n",
    "    (brand_performance['TotalSalesDollars'] <= low_sales_threshold) &\n",
    "    (brand_performance['ProfitMargin'] >= high_margin_threshold)\n",
    "]\n",
    "print(\"Brands with Low Sales but High Profit Margins:\")\n",
    "display(target_brands.sort_values('TotalSalesDollars'))"
   ]
  },
  {
   "cell_type": "code",
   "execution_count": null,
   "id": "33b5f59a-7691-4321-aca0-170ea979363a",
   "metadata": {},
   "outputs": [],
   "source": [
    "brand_performance = brand_performance[brand_performance['TotalSalesDollars']<10000] # for better visualization"
   ]
  },
  {
   "cell_type": "code",
   "execution_count": null,
   "id": "ec95029e-612e-4b05-83f8-ef8e74e3f6d2",
   "metadata": {},
   "outputs": [],
   "source": [
    "plt.figure(figsize=(10, 6))\n",
    "sns.scatterplot(data=brand_performance, x='TotalSalesDollars', y='ProfitMargin', color=\"blue\", label=\"All Brands\", alpha = 0.2)\n",
    "sns.scatterplot(data=target_brands, x='TotalSalesDollars', y='ProfitMargin', color=\"red\", label=\"Target Brands\")\n",
    "\n",
    "plt.axhline(high_margin_threshold, linestyle='--', color='black', label=\"High Margin Threshold\")\n",
    "plt.axvline(low_sales_threshold, linestyle='--', color='black', label=\"Low Sales Threshold\")\n",
    "\n",
    "plt.xlabel(\"Total Sales ($)\")\n",
    "plt.ylabel(\"Profit Margin (%)\")\n",
    "plt.title(\"Brands for Promotional or Pricing Adjustments\")\n",
    "plt.legend()\n",
    "plt.grid(True)\n",
    "plt.show()"
   ]
  },
  {
   "cell_type": "markdown",
   "id": "3aa6ad86-ef9b-4f00-a371-e60be552c324",
   "metadata": {},
   "source": [
    "#### Which vendors and brands demonstrate the highest sales performance?"
   ]
  },
  {
   "cell_type": "code",
   "execution_count": null,
   "id": "dbbb596c-8e7b-4781-9ce5-f95d1bb60033",
   "metadata": {},
   "outputs": [],
   "source": [
    "def format_dollars(value):\n",
    "    if value >= 1_000_000:\n",
    "        return f\"{value / 1_000_000:.2f}M\"\n",
    "    elif value >= 1_000:\n",
    "        return f\"{value / 1_000:.2f}K\"\n",
    "    else:\n",
    "        return str(value)"
   ]
  },
  {
   "cell_type": "code",
   "execution_count": null,
   "id": "1114b9e3-8bdf-4244-b2ed-582f1d0bc1db",
   "metadata": {},
   "outputs": [],
   "source": [
    "# Top Vendors & Brands by Sales Performance\n",
    "top_vendors = df.groupby(\"VendorName\")[\"TotalSalesDollars\"].sum().nlargest(10)\n",
    "top_brands = df.groupby(\"Description\")[\"TotalSalesDollars\"].sum().nlargest(10)\n",
    "top_vendors"
   ]
  },
  {
   "cell_type": "code",
   "execution_count": null,
   "id": "8badb100-9402-4304-b9f0-ee2163b54e37",
   "metadata": {},
   "outputs": [],
   "source": [
    "top_vendors.apply(lambda x:format_dollars(x))"
   ]
  },
  {
   "cell_type": "code",
   "execution_count": null,
   "id": "8b7a1802-6710-4259-adaf-3bf9185e9cd7",
   "metadata": {},
   "outputs": [],
   "source": [
    "plt.figure(figsize=(15, 5))\n",
    "\n",
    "# Plot for Top Vendors\n",
    "plt.subplot(1, 2, 1)\n",
    "ax1 = sns.barplot(y=top_vendors.index, x=top_vendors.values, palette=\"Blues_r\")\n",
    "plt.title(\"Top 10 Vendors by Sales\")\n",
    "\n",
    "for bar in ax1.patches:\n",
    "    ax1.text(bar.get_width() + (bar.get_width() * 0.02), \n",
    "             bar.get_y() + bar.get_height() / 2, \n",
    "             format_dollars(bar.get_width()), \n",
    "             ha='left', va='center', fontsize=10, color='black')\n",
    "\n",
    "# Plot for Top Brands\n",
    "plt.subplot(1, 2, 2)\n",
    "ax2 = sns.barplot(y=top_brands.index.astype(str), x=top_brands.values, palette=\"Reds_r\")\n",
    "plt.title(\"Top 10 Brands by Sales\")\n",
    "\n",
    "for bar in ax2.patches:\n",
    "    ax2.text(bar.get_width() + (bar.get_width() * 0.02), \n",
    "             bar.get_y() + bar.get_height() / 2, \n",
    "             format_dollars(bar.get_width()), \n",
    "             ha='left', va='center', fontsize=10, color='black')\n",
    "\n",
    "plt.tight_layout()\n",
    "plt.show()"
   ]
  },
  {
   "cell_type": "markdown",
   "id": "7fcb95aa-bae1-487b-a3e2-28ca1e25d340",
   "metadata": {},
   "source": [
    "### Which vendors contribute the most to total purchase dollars?"
   ]
  },
  {
   "cell_type": "code",
   "execution_count": null,
   "id": "acbc2716-080e-42c0-98d6-ebf33be4993f",
   "metadata": {},
   "outputs": [],
   "source": [
    "# Rank Vendors by Total Purchase Dollars\n",
    "vendor_performance = df.groupby(\"VendorName\").agg({\n",
    "    \"TotalPurchaseDollars\": \"sum\",\n",
    "    \"GrossProfit\": \"sum\",\n",
    "    \"TotalSalesDollars\":\"sum\"\n",
    "}).reset_index()\n",
    "\n",
    "# Calculate Contribution % to Overall Procurement\n",
    "vendor_performance[\"Purchase_Contribution%\"] = (vendor_performance[\"TotalPurchaseDollars\"] / vendor_performance[\"TotalPurchaseDollars\"].sum()) * 100\n",
    "\n",
    "# Rank Vendors by Total Purchase Dollars & Profitability\n",
    "vendor_performance = round(vendor_performance.sort_values(by=\"TotalPurchaseDollars\", ascending=False),2)\n",
    "\n",
    "# Display Top 10 Vendors\n",
    "top_vendors = vendor_performance.head(10)\n",
    "top_vendors['TotalSalesDollars'] = top_vendors['TotalSalesDollars'].apply(format_dollars)\n",
    "top_vendors['TotalPurchaseDollars'] = top_vendors['TotalPurchaseDollars'].apply(format_dollars)\n",
    "top_vendors['GrossProfit'] = top_vendors['GrossProfit'].apply(format_dollars)\n",
    "top_vendors"
   ]
  },
  {
   "cell_type": "code",
   "execution_count": null,
   "id": "82c130e5-6e7c-4549-8beb-3bf306376382",
   "metadata": {},
   "outputs": [],
   "source": [
    "top_vendors['Cumulative_Contribution%'] = top_vendors['Purchase_Contribution%'].cumsum()\n",
    "\n",
    "fig, ax1 = plt.subplots(figsize=(10, 6))\n",
    "\n",
    "# Bar plot for Purchase Contribution%\n",
    "sns.barplot(x=top_vendors['VendorName'], y=top_vendors['Purchase_Contribution%'],  palette=\"mako\", ax=ax1)\n",
    "\n",
    "for i, value in enumerate(top_vendors['Purchase_Contribution%']):\n",
    "    ax1.text(i, value - 1, str(value)+'%', ha='center', fontsize=10, color='white')\n",
    "\n",
    "# Line Plot for Cumulative Contribution%\n",
    "ax2 = ax1.twinx()\n",
    "ax2.plot(top_vendors['VendorName'], top_vendors['Cumulative_Contribution%'], color='red', marker='o', linestyle='dashed', label='Cumulative %')\n",
    "\n",
    "ax1.set_xticklabels(top_vendors['VendorName'], rotation=90)\n",
    "ax1.set_ylabel('Purchase Contribution %', color='blue')\n",
    "ax2.set_ylabel('Cumulative Contribution %', color='red')\n",
    "ax1.set_xlabel('Vendors')\n",
    "ax1.set_title('Pareto Chart: Vendor Contribution to Total Purchases')\n",
    "\n",
    "ax2.axhline(y=100, color='gray', linestyle='dashed', alpha=0.7)\n",
    "ax2.legend(loc='upper right')\n",
    "\n",
    "plt.show()"
   ]
  },
  {
   "cell_type": "markdown",
   "id": "a7d75ab9-65bd-4dbb-821a-2b08bec91c66",
   "metadata": {},
   "source": [
    "### How much of total procurement is dependent on the top vendors?"
   ]
  },
  {
   "cell_type": "code",
   "execution_count": null,
   "id": "32c84843-fa35-4171-aec1-4f815a1c1fd7",
   "metadata": {},
   "outputs": [],
   "source": [
    "print(f\"Total Purchase Contribution of top 10 vendors is {round(top_vendors['Purchase_Contribution%'].sum(),2)} %\")\n",
    "\n",
    "vendors = list(top_vendors['VendorName'].values)\n",
    "purchase_contributions = list(top_vendors['Purchase_Contribution%'].values)\n",
    "total_contribution = sum(purchase_contributions)\n",
    "remaining_contribution = 100 - total_contribution\n",
    "\n",
    "# Append \"Other Vendors\" category\n",
    "vendors.append(\"Other Vendors\")\n",
    "purchase_contributions.append(remaining_contribution)\n",
    "\n",
    "# Donut Chart\n",
    "fig, ax = plt.subplots(figsize=(8, 8))\n",
    "wedges, texts, autotexts = ax.pie(purchase_contributions, labels=vendors, autopct='%1.1f%%',\n",
    "                                  startangle=140, pctdistance=0.85, colors=plt.cm.Paired.colors)\n",
    "\n",
    "# Draw a white circle in the center to create a \"donut\" effect\n",
    "centre_circle = plt.Circle((0, 0), 0.70, fc='white')\n",
    "fig.gca().add_artist(centre_circle)\n",
    "\n",
    "# Add Total Contribution annotation in the center\n",
    "plt.text(0, 0, f\"Top 10 Total:\\n{total_contribution:.2f}%\", fontsize=14, fontweight='bold', ha='center', va='center')\n",
    "\n",
    "plt.title(\"Top 10 Vendor's Purchase Contribution (%)\")\n",
    "plt.show()"
   ]
  },
  {
   "cell_type": "markdown",
   "id": "b0e92a95-f4e5-4c8d-b616-90adc2a92929",
   "metadata": {},
   "source": [
    "The remaining vendors contribute only 34.31%, meaning they are not utilized effectively or may not be as competitive.\n",
    "If vendor dependency is too high, consider identifying new suppliers to reduce risk."
   ]
  },
  {
   "cell_type": "markdown",
   "id": "8f17e932-7ac1-4e88-9155-8bfe6e584403",
   "metadata": {},
   "source": [
    "#### Does purchasing in bulk reduce the unit price, and what is the optimal purchase volume for cost savings?"
   ]
  },
  {
   "cell_type": "code",
   "execution_count": null,
   "id": "d6f2ac0e-ad4b-4a2e-a149-ba61fc25055e",
   "metadata": {},
   "outputs": [],
   "source": [
    "# Calculate Unit Purchase Price per Vendor & Volume Group\n",
    "df[\"UnitPurchasePrice\"] = df[\"TotalPurchaseDollars\"] / df[\"TotalPurchaseQuantity\"]\n",
    "\n",
    "# Group by Order Sizes (e.g., Small, Medium, Large Purchases)\n",
    "df[\"OrderSize\"] = pd.qcut(df[\"TotalPurchaseQuantity\"], q=3, labels=[\"Small\", \"Medium\", \"Large\"])\n",
    "\n",
    "# Analyze Cost Savings per Order Size\n",
    "bulk_purchase_analysis = df.groupby(\"OrderSize\")[\"UnitPurchasePrice\"].mean().reset_index()\n",
    "print(bulk_purchase_analysis)\n"
   ]
  },
  {
   "cell_type": "code",
   "execution_count": 3,
   "id": "4f538556-d9c6-4270-8943-fb765b6976b7",
   "metadata": {},
   "outputs": [
    {
     "ename": "NameError",
     "evalue": "name 'df' is not defined",
     "output_type": "error",
     "traceback": [
      "\u001b[0;31m---------------------------------------------------------------------------\u001b[0m",
      "\u001b[0;31mNameError\u001b[0m                                 Traceback (most recent call last)",
      "Cell \u001b[0;32mIn[3], line 2\u001b[0m\n\u001b[1;32m      1\u001b[0m plt\u001b[38;5;241m.\u001b[39mfigure(figsize\u001b[38;5;241m=\u001b[39m(\u001b[38;5;241m10\u001b[39m, \u001b[38;5;241m6\u001b[39m))\n\u001b[0;32m----> 2\u001b[0m sns\u001b[38;5;241m.\u001b[39mboxplot(data\u001b[38;5;241m=\u001b[39mdf, x\u001b[38;5;241m=\u001b[39m\u001b[38;5;124m\"\u001b[39m\u001b[38;5;124mOrderSize\u001b[39m\u001b[38;5;124m\"\u001b[39m, y\u001b[38;5;241m=\u001b[39m\u001b[38;5;124m\"\u001b[39m\u001b[38;5;124mUnitPurchasePrice\u001b[39m\u001b[38;5;124m\"\u001b[39m, palette\u001b[38;5;241m=\u001b[39m\u001b[38;5;124m\"\u001b[39m\u001b[38;5;124mSet2\u001b[39m\u001b[38;5;124m\"\u001b[39m)\n\u001b[1;32m      3\u001b[0m plt\u001b[38;5;241m.\u001b[39mtitle(\u001b[38;5;124m\"\u001b[39m\u001b[38;5;124mImpact of Bulk Purchasing on Unit Price\u001b[39m\u001b[38;5;124m\"\u001b[39m)\n\u001b[1;32m      4\u001b[0m plt\u001b[38;5;241m.\u001b[39mxlabel(\u001b[38;5;124m\"\u001b[39m\u001b[38;5;124mOrder Size\u001b[39m\u001b[38;5;124m\"\u001b[39m)\n",
      "\u001b[0;31mNameError\u001b[0m: name 'df' is not defined"
     ]
    },
    {
     "data": {
      "text/plain": [
       "<Figure size 1000x600 with 0 Axes>"
      ]
     },
     "metadata": {},
     "output_type": "display_data"
    }
   ],
   "source": [
    "plt.figure(figsize=(10, 6))\n",
    "sns.boxplot(data=df, x=\"OrderSize\", y=\"UnitPurchasePrice\", palette=\"Set2\")\n",
    "plt.title(\"Impact of Bulk Purchasing on Unit Price\")\n",
    "plt.xlabel(\"Order Size\")\n",
    "plt.ylabel(\"Average Unit Purchase Price\")\n",
    "plt.show()\n"
   ]
  },
  {
   "cell_type": "markdown",
   "id": "30d11c64-528a-4ea7-adbc-93a3329362b0",
   "metadata": {},
   "source": [
    "- Vendors buying in bulk (Large Order Size) get the lowest unit price ($10.78 per unit), meaning higher margins if they can manage inventory efficiently.\n",
    "- The price difference between Small and Large orders is substantial (~72% reduction in unit cost)\n",
    "- This suggests that bulk pricing strategies successfully encourage vendors to purchase in larger volumes, leading to higher overall sales despite lower per-unit revenue."
   ]
  },
  {
   "cell_type": "markdown",
   "id": "46878d96-51d2-4a9b-8506-601e059106c9",
   "metadata": {},
   "source": [
    "#### Which vendors have low inventory turnover, indicating excess stock and slow-moving products?"
   ]
  },
  {
   "cell_type": "code",
   "execution_count": 4,
   "id": "e45d7f91-f363-44d7-8397-4f0036e35c9e",
   "metadata": {},
   "outputs": [
    {
     "ename": "NameError",
     "evalue": "name 'df' is not defined",
     "output_type": "error",
     "traceback": [
      "\u001b[0;31m---------------------------------------------------------------------------\u001b[0m",
      "\u001b[0;31mNameError\u001b[0m                                 Traceback (most recent call last)",
      "Cell \u001b[0;32mIn[4], line 2\u001b[0m\n\u001b[1;32m      1\u001b[0m \u001b[38;5;66;03m# Identify Low Inventory Turnover Vendors\u001b[39;00m\n\u001b[0;32m----> 2\u001b[0m low_turnover_vendors \u001b[38;5;241m=\u001b[39m df[df[\u001b[38;5;124m\"\u001b[39m\u001b[38;5;124mStockTurnover\u001b[39m\u001b[38;5;124m\"\u001b[39m] \u001b[38;5;241m<\u001b[39m \u001b[38;5;241m1\u001b[39m]\u001b[38;5;241m.\u001b[39mgroupby(\u001b[38;5;124m\"\u001b[39m\u001b[38;5;124mVendorName\u001b[39m\u001b[38;5;124m\"\u001b[39m)[\u001b[38;5;124m\"\u001b[39m\u001b[38;5;124mStockTurnover\u001b[39m\u001b[38;5;124m\"\u001b[39m]\u001b[38;5;241m.\u001b[39mmean()\u001b[38;5;241m.\u001b[39mreset_index()\n\u001b[1;32m      4\u001b[0m \u001b[38;5;66;03m# Sort by Lowest Turnover\u001b[39;00m\n\u001b[1;32m      5\u001b[0m low_turnover_vendors \u001b[38;5;241m=\u001b[39m low_turnover_vendors\u001b[38;5;241m.\u001b[39msort_values(by\u001b[38;5;241m=\u001b[39m\u001b[38;5;124m\"\u001b[39m\u001b[38;5;124mStockTurnover\u001b[39m\u001b[38;5;124m\"\u001b[39m, ascending\u001b[38;5;241m=\u001b[39m\u001b[38;5;28;01mTrue\u001b[39;00m)\n",
      "\u001b[0;31mNameError\u001b[0m: name 'df' is not defined"
     ]
    }
   ],
   "source": [
    "\n",
    "\n",
    "# Identify Low Inventory Turnover Vendors\n",
    "low_turnover_vendors = df[df[\"StockTurnover\"] < 1].groupby(\"VendorName\")[\"StockTurnover\"].mean().reset_index()\n",
    "\n",
    "# Sort by Lowest Turnover\n",
    "low_turnover_vendors = low_turnover_vendors.sort_values(by=\"StockTurnover\", ascending=True)\n",
    "low_turnover_vendors.head(10)\n"
   ]
  },
  {
   "cell_type": "markdown",
   "id": "78fb031a-a917-429a-9323-87f29bdc3342",
   "metadata": {},
   "source": [
    "- Slow-moving inventory increases holding costs (warehouse rent, insurance, depreciation)\n",
    "- Identifying vendors with low inventory turnover is critical for business efficiency, cost reduction, and profitability\n"
   ]
  },
  {
   "cell_type": "markdown",
   "id": "241ae417-b6de-4b72-b9cd-e00db27bb08c",
   "metadata": {},
   "source": [
    "#### How much capital is locked in unsold inventory per vendor, and which vendors contribute the most to it?"
   ]
  },
  {
   "cell_type": "code",
   "execution_count": 5,
   "id": "dc3b6c50-d6b8-46c7-be61-dbb526b04d94",
   "metadata": {},
   "outputs": [
    {
     "ename": "NameError",
     "evalue": "name 'df' is not defined",
     "output_type": "error",
     "traceback": [
      "\u001b[0;31m---------------------------------------------------------------------------\u001b[0m",
      "\u001b[0;31mNameError\u001b[0m                                 Traceback (most recent call last)",
      "Cell \u001b[0;32mIn[5], line 2\u001b[0m\n\u001b[1;32m      1\u001b[0m \u001b[38;5;66;03m# Calculate Unsold Inventory Value\u001b[39;00m\n\u001b[0;32m----> 2\u001b[0m df[\u001b[38;5;124m\"\u001b[39m\u001b[38;5;124mUnsoldInventoryValue\u001b[39m\u001b[38;5;124m\"\u001b[39m] \u001b[38;5;241m=\u001b[39m (df[\u001b[38;5;124m\"\u001b[39m\u001b[38;5;124mTotalPurchaseQuantity\u001b[39m\u001b[38;5;124m\"\u001b[39m] \u001b[38;5;241m-\u001b[39m df[\u001b[38;5;124m\"\u001b[39m\u001b[38;5;124mTotalSalesQuantity\u001b[39m\u001b[38;5;124m\"\u001b[39m]) \u001b[38;5;241m*\u001b[39m df[\u001b[38;5;124m\"\u001b[39m\u001b[38;5;124mPurchasePrice\u001b[39m\u001b[38;5;124m\"\u001b[39m]\n\u001b[1;32m      3\u001b[0m \u001b[38;5;28mprint\u001b[39m(\u001b[38;5;124m'\u001b[39m\u001b[38;5;124mTotal Unsold Capital:\u001b[39m\u001b[38;5;124m'\u001b[39m, format_dollars(df[\u001b[38;5;124m\"\u001b[39m\u001b[38;5;124mUnsoldInventoryValue\u001b[39m\u001b[38;5;124m\"\u001b[39m]\u001b[38;5;241m.\u001b[39msum()))\n\u001b[1;32m      5\u001b[0m \u001b[38;5;66;03m# Aggregate Capital Locked per Vendor\u001b[39;00m\n",
      "\u001b[0;31mNameError\u001b[0m: name 'df' is not defined"
     ]
    }
   ],
   "source": [
    "# Calculate Unsold Inventory Value\n",
    "df[\"UnsoldInventoryValue\"] = (df[\"TotalPurchaseQuantity\"] - df[\"TotalSalesQuantity\"]) * df[\"PurchasePrice\"]\n",
    "print('Total Unsold Capital:', format_dollars(df[\"UnsoldInventoryValue\"].sum()))\n",
    "\n",
    "# Aggregate Capital Locked per Vendor\n",
    "inventory_value_per_vendor = df.groupby(\"VendorName\")[\"UnsoldInventoryValue\"].sum().reset_index()\n",
    "\n",
    "# Sort Vendors with the Highest Locked Capital\n",
    "inventory_value_per_vendor = inventory_value_per_vendor.sort_values(by=\"UnsoldInventoryValue\", ascending=False)\n",
    "inventory_value_per_vendor['UnsoldInventoryValue'] = inventory_value_per_vendor['UnsoldInventoryValue'].apply(format_dollars)\n",
    "inventory_value_per_vendor.head(10)"
   ]
  },
  {
   "cell_type": "markdown",
   "id": "28ece054-1ffe-4cb9-99e5-59089258812a",
   "metadata": {},
   "source": [
    "#### What is the 95% confidence intervals for profit margins of top-performing and low-performing vendors."
   ]
  },
  {
   "cell_type": "code",
   "execution_count": 6,
   "id": "8e3a0e7c-f6af-41a3-94ff-7c2225c03676",
   "metadata": {},
   "outputs": [
    {
     "ename": "NameError",
     "evalue": "name 'df' is not defined",
     "output_type": "error",
     "traceback": [
      "\u001b[0;31m---------------------------------------------------------------------------\u001b[0m",
      "\u001b[0;31mNameError\u001b[0m                                 Traceback (most recent call last)",
      "Cell \u001b[0;32mIn[6], line 2\u001b[0m\n\u001b[1;32m      1\u001b[0m \u001b[38;5;66;03m# Define top and low vendors based on Total Sales Dollars (Top 25% & Bottom 25%)\u001b[39;00m\n\u001b[0;32m----> 2\u001b[0m top_threshold \u001b[38;5;241m=\u001b[39m df[\u001b[38;5;124m\"\u001b[39m\u001b[38;5;124mTotalSalesDollars\u001b[39m\u001b[38;5;124m\"\u001b[39m]\u001b[38;5;241m.\u001b[39mquantile(\u001b[38;5;241m0.75\u001b[39m)\n\u001b[1;32m      3\u001b[0m low_threshold \u001b[38;5;241m=\u001b[39m df[\u001b[38;5;124m\"\u001b[39m\u001b[38;5;124mTotalSalesDollars\u001b[39m\u001b[38;5;124m\"\u001b[39m]\u001b[38;5;241m.\u001b[39mquantile(\u001b[38;5;241m0.25\u001b[39m)\n\u001b[1;32m      5\u001b[0m top_vendors \u001b[38;5;241m=\u001b[39m df[df[\u001b[38;5;124m\"\u001b[39m\u001b[38;5;124mTotalSalesDollars\u001b[39m\u001b[38;5;124m\"\u001b[39m] \u001b[38;5;241m>\u001b[39m\u001b[38;5;241m=\u001b[39m top_threshold][\u001b[38;5;124m\"\u001b[39m\u001b[38;5;124mProfitMargin\u001b[39m\u001b[38;5;124m\"\u001b[39m]\u001b[38;5;241m.\u001b[39mdropna()\n",
      "\u001b[0;31mNameError\u001b[0m: name 'df' is not defined"
     ]
    }
   ],
   "source": [
    "# Define top and low vendors based on Total Sales Dollars (Top 25% & Bottom 25%)\n",
    "top_threshold = df[\"TotalSalesDollars\"].quantile(0.75)\n",
    "low_threshold = df[\"TotalSalesDollars\"].quantile(0.25)\n",
    "\n",
    "top_vendors = df[df[\"TotalSalesDollars\"] >= top_threshold][\"ProfitMargin\"].dropna()\n",
    "low_vendors = df[df[\"TotalSalesDollars\"] <= low_threshold][\"ProfitMargin\"].dropna()\n",
    "\n",
    "# Function to compute confidence interval\n",
    "def confidence_interval(data, confidence=0.95):\n",
    "    mean_val = np.mean(data)\n",
    "    std_err = np.std(data, ddof=1) / np.sqrt(len(data))  # Standard error\n",
    "    t_critical = stats.t.ppf((1 + confidence) / 2, df=len(data) - 1)\n",
    "    margin_of_error = t_critical * std_err\n",
    "    return mean_val, mean_val - margin_of_error, mean_val + margin_of_error\n",
    "\n",
    "# Compute confidence intervals\n",
    "top_mean, top_lower, top_upper = confidence_interval(top_vendors)\n",
    "low_mean, low_lower, low_upper = confidence_interval(low_vendors)\n",
    "\n",
    "print(f\"Top Vendors 95% CI: ({top_lower:.2f}, {top_upper:.2f}), Mean: {top_mean:.2f}\")\n",
    "print(f\"Low Vendors 95% CI: ({low_lower:.2f}, {low_upper:.2f}), Mean: {low_mean:.2f}\")\n",
    "\n",
    "plt.figure(figsize=(12, 6))\n",
    "\n",
    "# Top Vendors Plot\n",
    "sns.histplot(top_vendors, kde=True, color=\"blue\", bins=30, alpha=0.5, label=\"Top Vendors\")\n",
    "plt.axvline(top_lower, color=\"blue\", linestyle=\"--\", label=f\"Top Lower: {top_lower:.2f}\")\n",
    "plt.axvline(top_upper, color=\"blue\", linestyle=\"--\", label=f\"Top Upper: {top_upper:.2f}\")\n",
    "plt.axvline(top_mean, color=\"blue\", linestyle=\"-\", label=f\"Top Mean: {top_mean:.2f}\")\n",
    "\n",
    "# Low Vendors Plot\n",
    "sns.histplot(low_vendors, kde=True, color=\"red\", bins=30, alpha=0.5, label=\"Low Vendors\")\n",
    "plt.axvline(low_lower, color=\"red\", linestyle=\"--\", label=f\"Low Lower: {low_lower:.2f}\")\n",
    "plt.axvline(low_upper, color=\"red\", linestyle=\"--\", label=f\"Low Upper: {low_upper:.2f}\")\n",
    "plt.axvline(low_mean, color=\"red\", linestyle=\"-\", label=f\"Low Mean: {low_mean:.2f}\")\n",
    "\n",
    "# Finalize Plot\n",
    "plt.title(\"Confidence Interval Comparison: Top vs. Low Vendors (Profit Margin)\")\n",
    "plt.xlabel(\"Profit Margin (%)\")\n",
    "plt.ylabel(\"Frequency\")\n",
    "plt.legend()\n",
    "plt.grid(True)\n",
    "plt.show()\n"
   ]
  },
  {
   "cell_type": "markdown",
   "id": "0aa35b48-674a-43b5-ab17-6e729a1f6d7f",
   "metadata": {},
   "source": [
    "- The confidence interval for low-performing vendors (40.48% to 42.62%) is significantly higher than that of top-performing vendors (30.74% to 31.61%).\n",
    "- This suggests that vendors with lower sales tend to maintain higher profit margins, potentially due to premium pricing or lower operational costs.\n",
    "- For High-Performing Vendors: If they aim to improve profitability, they could explore selective price adjustments, cost optimization, or bundling strategies.\n",
    "- For Low-Performing Vendors: Despite higher margins, their low sales volume might indicate a need for better marketing, competitive pricing, or improved distribution strategies."
   ]
  },
  {
   "cell_type": "markdown",
   "id": "856ecda0-83f3-4788-9dd2-5eaf825b6a59",
   "metadata": {},
   "source": [
    "#### Is there a significant difference in profit margins between top-performing and low-performing vendors?\n",
    "\n",
    "Hypothesis:\n",
    "\n",
    "H₀ (Null Hypothesis): There is no significant difference in the mean profit margins of top-performing and low-performing vendors.\n",
    "\n",
    "H₁ (Alternative Hypothesis): The mean profit margins of top-performing and low-performing vendors are significantly different."
   ]
  },
  {
   "cell_type": "code",
   "execution_count": 7,
   "id": "6e24b11e-faf0-42fa-ab52-1494053610f9",
   "metadata": {},
   "outputs": [
    {
     "ename": "NameError",
     "evalue": "name 'df' is not defined",
     "output_type": "error",
     "traceback": [
      "\u001b[0;31m---------------------------------------------------------------------------\u001b[0m",
      "\u001b[0;31mNameError\u001b[0m                                 Traceback (most recent call last)",
      "Cell \u001b[0;32mIn[7], line 1\u001b[0m\n\u001b[0;32m----> 1\u001b[0m top_threshold \u001b[38;5;241m=\u001b[39m df[\u001b[38;5;124m\"\u001b[39m\u001b[38;5;124mTotalSalesDollars\u001b[39m\u001b[38;5;124m\"\u001b[39m]\u001b[38;5;241m.\u001b[39mquantile(\u001b[38;5;241m0.75\u001b[39m)\n\u001b[1;32m      2\u001b[0m low_threshold \u001b[38;5;241m=\u001b[39m df[\u001b[38;5;124m\"\u001b[39m\u001b[38;5;124mTotalSalesDollars\u001b[39m\u001b[38;5;124m\"\u001b[39m]\u001b[38;5;241m.\u001b[39mquantile(\u001b[38;5;241m0.25\u001b[39m)\n\u001b[1;32m      4\u001b[0m top_vendors \u001b[38;5;241m=\u001b[39m df[df[\u001b[38;5;124m\"\u001b[39m\u001b[38;5;124mTotalSalesDollars\u001b[39m\u001b[38;5;124m\"\u001b[39m] \u001b[38;5;241m>\u001b[39m\u001b[38;5;241m=\u001b[39m top_threshold][\u001b[38;5;124m\"\u001b[39m\u001b[38;5;124mProfitMargin\u001b[39m\u001b[38;5;124m\"\u001b[39m]\u001b[38;5;241m.\u001b[39mdropna()\n",
      "\u001b[0;31mNameError\u001b[0m: name 'df' is not defined"
     ]
    }
   ],
   "source": [
    "\n",
    "top_threshold = df[\"TotalSalesDollars\"].quantile(0.75)\n",
    "low_threshold = df[\"TotalSalesDollars\"].quantile(0.25)\n",
    "\n",
    "top_vendors = df[df[\"TotalSalesDollars\"] >= top_threshold][\"ProfitMargin\"].dropna()\n",
    "low_vendors = df[df[\"TotalSalesDollars\"] <= low_threshold][\"ProfitMargin\"].dropna()\n",
    "\n",
    "# Perform Two-Sample T-Test\n",
    "t_stat, p_value = ttest_ind(top_vendors, low_vendors, equal_var=False)\n",
    "\n",
    "# Print results\n",
    "print(f\"T-Statistic: {t_stat:.4f}, P-Value: {p_value:.4f}\")\n",
    "if p_value < 0.05:\n",
    "    print(\"Reject H₀: There is a significant difference in profit margins between top and low-performing vendors.\")\n",
    "else:\n",
    "    print(\"Fail to Reject H₀: No significant difference in profit margins.\")\n"
   ]
  },
  {
   "cell_type": "markdown",
   "id": "92babeae-fea2-4894-b7f9-5ab288d0242e",
   "metadata": {},
   "source": [
    "- A p-value this small suggests that the difference is not just statistically significant but also practically meaningful.\n",
    "\n",
    "- The two vendor groups operate very differently in terms of profitability."
   ]
  },
  {
   "cell_type": "code",
   "execution_count": 8,
   "id": "38c25d80-464f-4fca-aa04-aa47e8feaec0",
   "metadata": {},
   "outputs": [
    {
     "ename": "FileNotFoundError",
     "evalue": "[Errno 2] No such file or directory: '/Users/ayushimishra/Downloads/Inventory Analysis/notebooks/logs/ingestion_db.log'",
     "output_type": "error",
     "traceback": [
      "\u001b[0;31m---------------------------------------------------------------------------\u001b[0m",
      "\u001b[0;31mFileNotFoundError\u001b[0m                         Traceback (most recent call last)",
      "Cell \u001b[0;32mIn[8], line 8\u001b[0m\n\u001b[1;32m      5\u001b[0m \u001b[38;5;28;01mimport\u001b[39;00m \u001b[38;5;21;01mlogging\u001b[39;00m\n\u001b[1;32m      6\u001b[0m \u001b[38;5;28;01mimport\u001b[39;00m \u001b[38;5;21;01mtime\u001b[39;00m\n\u001b[0;32m----> 8\u001b[0m logging\u001b[38;5;241m.\u001b[39mbasicConfig(\n\u001b[1;32m      9\u001b[0m     filename\u001b[38;5;241m=\u001b[39m\u001b[38;5;124m\"\u001b[39m\u001b[38;5;124mlogs/ingestion_db.log\u001b[39m\u001b[38;5;124m\"\u001b[39m, \n\u001b[1;32m     10\u001b[0m     level\u001b[38;5;241m=\u001b[39mlogging\u001b[38;5;241m.\u001b[39mDEBUG,\n\u001b[1;32m     11\u001b[0m     \u001b[38;5;28mformat\u001b[39m\u001b[38;5;241m=\u001b[39m\u001b[38;5;124m\"\u001b[39m\u001b[38;5;132;01m%(asctime)s\u001b[39;00m\u001b[38;5;124m - \u001b[39m\u001b[38;5;132;01m%(levelname)s\u001b[39;00m\u001b[38;5;124m - \u001b[39m\u001b[38;5;132;01m%(message)s\u001b[39;00m\u001b[38;5;124m\"\u001b[39m, \n\u001b[1;32m     12\u001b[0m     filemode\u001b[38;5;241m=\u001b[39m\u001b[38;5;124m\"\u001b[39m\u001b[38;5;124ma\u001b[39m\u001b[38;5;124m\"\u001b[39m  \n\u001b[1;32m     13\u001b[0m )\n\u001b[1;32m     15\u001b[0m engine \u001b[38;5;241m=\u001b[39m create_engine(\u001b[38;5;124m'\u001b[39m\u001b[38;5;124msqlite:///inventory.db\u001b[39m\u001b[38;5;124m'\u001b[39m)\n\u001b[1;32m     17\u001b[0m \u001b[38;5;28;01mdef\u001b[39;00m \u001b[38;5;21mingest_db\u001b[39m(df, table_name, engine):\n",
      "File \u001b[0;32m/opt/anaconda3/lib/python3.11/logging/__init__.py:2050\u001b[0m, in \u001b[0;36mbasicConfig\u001b[0;34m(**kwargs)\u001b[0m\n\u001b[1;32m   2048\u001b[0m     \u001b[38;5;28;01melse\u001b[39;00m:\n\u001b[1;32m   2049\u001b[0m         encoding \u001b[38;5;241m=\u001b[39m io\u001b[38;5;241m.\u001b[39mtext_encoding(encoding)\n\u001b[0;32m-> 2050\u001b[0m     h \u001b[38;5;241m=\u001b[39m FileHandler(filename, mode,\n\u001b[1;32m   2051\u001b[0m                     encoding\u001b[38;5;241m=\u001b[39mencoding, errors\u001b[38;5;241m=\u001b[39merrors)\n\u001b[1;32m   2052\u001b[0m \u001b[38;5;28;01melse\u001b[39;00m:\n\u001b[1;32m   2053\u001b[0m     stream \u001b[38;5;241m=\u001b[39m kwargs\u001b[38;5;241m.\u001b[39mpop(\u001b[38;5;124m\"\u001b[39m\u001b[38;5;124mstream\u001b[39m\u001b[38;5;124m\"\u001b[39m, \u001b[38;5;28;01mNone\u001b[39;00m)\n",
      "File \u001b[0;32m/opt/anaconda3/lib/python3.11/logging/__init__.py:1181\u001b[0m, in \u001b[0;36mFileHandler.__init__\u001b[0;34m(self, filename, mode, encoding, delay, errors)\u001b[0m\n\u001b[1;32m   1179\u001b[0m     \u001b[38;5;28mself\u001b[39m\u001b[38;5;241m.\u001b[39mstream \u001b[38;5;241m=\u001b[39m \u001b[38;5;28;01mNone\u001b[39;00m\n\u001b[1;32m   1180\u001b[0m \u001b[38;5;28;01melse\u001b[39;00m:\n\u001b[0;32m-> 1181\u001b[0m     StreamHandler\u001b[38;5;241m.\u001b[39m\u001b[38;5;21m__init__\u001b[39m(\u001b[38;5;28mself\u001b[39m, \u001b[38;5;28mself\u001b[39m\u001b[38;5;241m.\u001b[39m_open())\n",
      "File \u001b[0;32m/opt/anaconda3/lib/python3.11/logging/__init__.py:1213\u001b[0m, in \u001b[0;36mFileHandler._open\u001b[0;34m(self)\u001b[0m\n\u001b[1;32m   1208\u001b[0m \u001b[38;5;250m\u001b[39m\u001b[38;5;124;03m\"\"\"\u001b[39;00m\n\u001b[1;32m   1209\u001b[0m \u001b[38;5;124;03mOpen the current base file with the (original) mode and encoding.\u001b[39;00m\n\u001b[1;32m   1210\u001b[0m \u001b[38;5;124;03mReturn the resulting stream.\u001b[39;00m\n\u001b[1;32m   1211\u001b[0m \u001b[38;5;124;03m\"\"\"\u001b[39;00m\n\u001b[1;32m   1212\u001b[0m open_func \u001b[38;5;241m=\u001b[39m \u001b[38;5;28mself\u001b[39m\u001b[38;5;241m.\u001b[39m_builtin_open\n\u001b[0;32m-> 1213\u001b[0m \u001b[38;5;28;01mreturn\u001b[39;00m open_func(\u001b[38;5;28mself\u001b[39m\u001b[38;5;241m.\u001b[39mbaseFilename, \u001b[38;5;28mself\u001b[39m\u001b[38;5;241m.\u001b[39mmode,\n\u001b[1;32m   1214\u001b[0m                  encoding\u001b[38;5;241m=\u001b[39m\u001b[38;5;28mself\u001b[39m\u001b[38;5;241m.\u001b[39mencoding, errors\u001b[38;5;241m=\u001b[39m\u001b[38;5;28mself\u001b[39m\u001b[38;5;241m.\u001b[39merrors)\n",
      "\u001b[0;31mFileNotFoundError\u001b[0m: [Errno 2] No such file or directory: '/Users/ayushimishra/Downloads/Inventory Analysis/notebooks/logs/ingestion_db.log'"
     ]
    }
   ],
   "source": [
    "# Use this script to save csv files into database with their filename as tablename\n",
    "import pandas as pd\n",
    "import os\n",
    "from sqlalchemy import create_engine\n",
    "import logging\n",
    "import time\n",
    "\n",
    "logging.basicConfig(\n",
    "    filename=\"logs/ingestion_db.log\", \n",
    "    level=logging.DEBUG,\n",
    "    format=\"%(asctime)s - %(levelname)s - %(message)s\", \n",
    "    filemode=\"a\"  \n",
    ")\n",
    "\n",
    "engine = create_engine('sqlite:///inventory.db')\n",
    "\n",
    "def ingest_db(df, table_name, engine):\n",
    "    '''this function will ingest the dataframe into database table'''\n",
    "    df.to_sql(table_name, con = engine, if_exists = 'replace', index = False)\n",
    "    \n",
    "def load_raw_data():\n",
    "    '''this function will load the CSVs as dataframe and ingest into db'''\n",
    "    start = time.time()\n",
    "    for file in os.listdir('data'):\n",
    "        if '.csv' in file:\n",
    "            df = pd.read_csv('data/'+file)\n",
    "            logging.info(f'Ingesting {file} in db')\n",
    "            ingest_db(df, file[:-4], engine)\n",
    "    end = time.time()\n",
    "    total_time = (end - start)/60\n",
    "    logging.info('--------------Ingestion Complete------------')\n",
    "    \n",
    "    logging.info(f'\\nTotal Time Taken: {total_time} minutes')\n",
    "\n",
    "if __name__ == '__main__':\n",
    "    load_raw_data()\n"
   ]
  },
  {
   "cell_type": "code",
   "execution_count": null,
   "id": "62251109-9a34-4dbb-ad30-a08cad3c1bcb",
   "metadata": {},
   "outputs": [],
   "source": []
  },
  {
   "cell_type": "code",
   "execution_count": null,
   "id": "75de5805-81d7-4d92-94ee-076886308d95",
   "metadata": {},
   "outputs": [],
   "source": []
  }
 ],
 "metadata": {
  "kernelspec": {
   "display_name": "Python 3 (ipykernel)",
   "language": "python",
   "name": "python3"
  },
  "language_info": {
   "codemirror_mode": {
    "name": "ipython",
    "version": 3
   },
   "file_extension": ".py",
   "mimetype": "text/x-python",
   "name": "python",
   "nbconvert_exporter": "python",
   "pygments_lexer": "ipython3",
   "version": "3.11.7"
  }
 },
 "nbformat": 4,
 "nbformat_minor": 5
}
